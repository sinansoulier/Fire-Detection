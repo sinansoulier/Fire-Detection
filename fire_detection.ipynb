{
 "cells": [
  {
   "cell_type": "markdown",
   "id": "6d5a4927",
   "metadata": {},
   "source": [
    "# Fire detection"
   ]
  },
  {
   "cell_type": "markdown",
   "id": "7ae0d803",
   "metadata": {},
   "source": [
    "## Imports"
   ]
  },
  {
   "cell_type": "markdown",
   "id": "83110927",
   "metadata": {},
   "source": [
    "### Libraries"
   ]
  },
  {
   "cell_type": "code",
   "execution_count": 1,
   "id": "82291debd4cb2ff0",
   "metadata": {
    "jupyter": {
     "is_executing": true
    }
   },
   "outputs": [],
   "source": [
    "import os\n",
    "import sys\n",
    "\n",
    "import torch\n",
    "import torch.nn as nn\n",
    "import torch.nn.functional as F\n",
    "import torch.optim as optim\n",
    "from torch.utils.data import DataLoader\n",
    "\n",
    "import torchvision\n",
    "import torchvision.transforms as transforms\n",
    "from torchvision import models\n",
    "\n",
    "import numpy as np\n",
    "from PIL import Image\n",
    "import cv2\n",
    "import matplotlib.pyplot as plt"
   ]
  },
  {
   "cell_type": "markdown",
   "id": "b2e4e063",
   "metadata": {},
   "source": [
    "### Local"
   ]
  },
  {
   "cell_type": "code",
   "execution_count": 2,
   "id": "ebb09be3c98642c3",
   "metadata": {},
   "outputs": [],
   "source": [
    "from src.dataset import FireImageDataset"
   ]
  },
  {
   "cell_type": "markdown",
   "id": "9f06dfac",
   "metadata": {},
   "source": [
    "## Data"
   ]
  },
  {
   "cell_type": "markdown",
   "id": "cef1a3bb",
   "metadata": {},
   "source": [
    "### Loading"
   ]
  },
  {
   "cell_type": "code",
   "execution_count": 19,
   "id": "ba2df465",
   "metadata": {},
   "outputs": [],
   "source": [
    "# Define the data directories\n",
    "DATA_DIR = os.path.join(os.getcwd(), 'data')\n",
    "IMAGE_DIR = os.path.join(DATA_DIR, 'images')\n",
    "LABEL_DIR = os.path.join(DATA_DIR, 'labels')\n",
    "\n",
    "TRAIN_IMAGE_DIR = os.path.join(IMAGE_DIR, 'train')\n",
    "TRAIN_LABEL_DIR = os.path.join(LABEL_DIR, 'train')\n",
    "VAL_IMAGE_DIR = os.path.join(IMAGE_DIR, 'val')\n",
    "VAL_LABEL_DIR = os.path.join(LABEL_DIR, 'val')\n",
    "\n",
    "# Initialize the datasets\n",
    "train_set = FireImageDataset(TRAIN_IMAGE_DIR, TRAIN_LABEL_DIR)\n",
    "validation_set = FireImageDataset(VAL_IMAGE_DIR, VAL_LABEL_DIR)\n",
    "\n",
    "# Verify that the image and label files are correctly paired\n",
    "train_set.verify()\n",
    "validation_set.verify()"
   ]
  },
  {
   "cell_type": "markdown",
   "id": "6e7f4f8e",
   "metadata": {},
   "source": [
    "### Exploration"
   ]
  },
  {
   "cell_type": "code",
   "execution_count": 8,
   "id": "e0ae973a",
   "metadata": {},
   "outputs": [],
   "source": [
    "# FIXME"
   ]
  },
  {
   "cell_type": "markdown",
   "id": "63ab5a61",
   "metadata": {},
   "source": [
    "### Preprocessing"
   ]
  },
  {
   "cell_type": "code",
   "execution_count": 9,
   "id": "44e6f9b0",
   "metadata": {},
   "outputs": [],
   "source": [
    "# FIXME"
   ]
  },
  {
   "cell_type": "markdown",
   "id": "34900ce2",
   "metadata": {},
   "source": [
    "### Augmentation"
   ]
  },
  {
   "cell_type": "code",
   "execution_count": 10,
   "id": "d1fbc036",
   "metadata": {},
   "outputs": [],
   "source": [
    "# FIXME"
   ]
  },
  {
   "cell_type": "markdown",
   "id": "5463cb40",
   "metadata": {},
   "source": [
    "## Model(s)"
   ]
  },
  {
   "cell_type": "markdown",
   "id": "7d0e9523",
   "metadata": {},
   "source": [
    "### Architecture"
   ]
  },
  {
   "cell_type": "code",
   "execution_count": 11,
   "id": "d7f324a2",
   "metadata": {},
   "outputs": [],
   "source": [
    "# FIXME"
   ]
  },
  {
   "cell_type": "markdown",
   "id": "7c248201",
   "metadata": {},
   "source": [
    "### Loading"
   ]
  },
  {
   "cell_type": "code",
   "execution_count": 12,
   "id": "d2e46809",
   "metadata": {},
   "outputs": [],
   "source": [
    "# FIXME"
   ]
  },
  {
   "cell_type": "markdown",
   "id": "9ffe6c40",
   "metadata": {},
   "source": [
    "### Fine-tuning and training"
   ]
  },
  {
   "cell_type": "code",
   "execution_count": 13,
   "id": "fbb1f2f1",
   "metadata": {},
   "outputs": [],
   "source": [
    "# FIXME"
   ]
  },
  {
   "cell_type": "markdown",
   "id": "ce07af7c",
   "metadata": {},
   "source": [
    "### Evaluation"
   ]
  },
  {
   "cell_type": "code",
   "execution_count": 14,
   "id": "8fc1e16c",
   "metadata": {},
   "outputs": [],
   "source": [
    "# FIXME"
   ]
  },
  {
   "cell_type": "markdown",
   "id": "bd4e56d8",
   "metadata": {},
   "source": [
    "## Explanability"
   ]
  },
  {
   "cell_type": "code",
   "execution_count": 15,
   "id": "f1f0b029",
   "metadata": {},
   "outputs": [],
   "source": [
    "# FIXME"
   ]
  }
 ],
 "metadata": {
  "kernelspec": {
   "display_name": "fire_detection",
   "language": "python",
   "name": "python3"
  },
  "language_info": {
   "codemirror_mode": {
    "name": "ipython",
    "version": 3
   },
   "file_extension": ".py",
   "mimetype": "text/x-python",
   "name": "python",
   "nbconvert_exporter": "python",
   "pygments_lexer": "ipython3",
   "version": "3.11.10"
  }
 },
 "nbformat": 4,
 "nbformat_minor": 5
}
